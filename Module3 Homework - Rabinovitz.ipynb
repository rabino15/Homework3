{
 "cells": [
  {
   "cell_type": "markdown",
   "metadata": {},
   "source": [
    "### Exercise 1\n",
    "Ask a user for 5 names and place each one in to a list called <i>names</i>. Then, print <i>names</i>."
   ]
  },
  {
   "cell_type": "code",
   "execution_count": 2,
   "metadata": {},
   "outputs": [
    {
     "name": "stdout",
     "output_type": "stream",
     "text": [
      "Enter name: Mike\n",
      "Enter name: Eileen\n",
      "Enter name: Leah\n",
      "Enter name: Joshua\n",
      "Enter name: Rachael\n",
      "['Mike', 'Eileen', 'Leah', 'Joshua', 'Rachael']\n"
     ]
    }
   ],
   "source": [
    "names = []\n",
    "names.append(input(\"Enter name: \"))\n",
    "names.append(input(\"Enter name: \"))\n",
    "names.append(input(\"Enter name: \"))\n",
    "names.append(input(\"Enter name: \"))\n",
    "names.append(input(\"Enter name: \"))\n",
    "print(names)"
   ]
  },
  {
   "cell_type": "markdown",
   "metadata": {},
   "source": [
    "### Exercise 2\n",
    "Print out a randomly selected name in the names list."
   ]
  },
  {
   "cell_type": "code",
   "execution_count": 10,
   "metadata": {},
   "outputs": [
    {
     "name": "stdout",
     "output_type": "stream",
     "text": [
      "Leah\n"
     ]
    }
   ],
   "source": [
    "import random as rand\n",
    "print(names[rand.randint(0,5)])"
   ]
  },
  {
   "cell_type": "markdown",
   "metadata": {},
   "source": [
    "### Exercise 3\n",
    "Ask for a color and store that answer. \n",
    "If the answer is grey then print out you found Victor's favorite color.\n",
    "Otherwise print out the color is not Victor's favorite color."
   ]
  },
  {
   "cell_type": "code",
   "execution_count": 2,
   "metadata": {},
   "outputs": [
    {
     "name": "stdout",
     "output_type": "stream",
     "text": [
      "Enter a color: grey\n",
      "you found Victor's favorite color\n"
     ]
    }
   ],
   "source": [
    "color = input(\"Enter a color: \")\n",
    "if (color==\"grey\"):\n",
    "    print(\"you found Victor's favorite color\")\n",
    "else:\n",
    "    print(\"the color is not Victor's favorite\")"
   ]
  },
  {
   "cell_type": "markdown",
   "metadata": {},
   "source": [
    "### Exercise 4\n",
    "Ask for an exam score and store that number. If the number is greater than 100, then print out 'You cannot have an exam score higher than 100'. If the number doesn't exceeed 100 but is greater than or equal to 75, then print out 'You did great on your exam!'. Otherwise if they scored lower than 75, then print out 'You need to study harder'."
   ]
  },
  {
   "cell_type": "code",
   "execution_count": 5,
   "metadata": {},
   "outputs": [
    {
     "name": "stdout",
     "output_type": "stream",
     "text": [
      "Enter an exam score: 60\n",
      "You need to study harder\n"
     ]
    }
   ],
   "source": [
    "score = int(input(\"Enter an exam score: \"))\n",
    "if (score > 100):\n",
    "    print(\"You cannot have an exam score higher than 100\")\n",
    "elif (score >= 75):\n",
    "    print(\"You did great on your exam!\")\n",
    "else:\n",
    "    print(\"You need to study harder\")"
   ]
  },
  {
   "cell_type": "markdown",
   "metadata": {},
   "source": [
    "### Exercise 5\n",
    "Write a function to convert a test score to a grade where  \n",
    " - 90 - 100: A\n",
    " - 80 - 89:  B\n",
    " - 70 - 79:  C\n",
    " - 60 - 69:  D\n",
    " - < 60   :  F\n",
    " \n",
    "If a score is not between 0 and 100 then print out an error message. In the program, ask the user for a score and then call your function. "
   ]
  },
  {
   "cell_type": "code",
   "execution_count": 10,
   "metadata": {},
   "outputs": [
    {
     "name": "stdout",
     "output_type": "stream",
     "text": [
      "Enter an exam score: 55\n",
      "F\n"
     ]
    }
   ],
   "source": [
    "def toGrade(score):\n",
    "    if (score > 89):\n",
    "        print('A')\n",
    "    elif (score > 79):\n",
    "        print('B')\n",
    "    elif (score > 69):\n",
    "        print('C')\n",
    "    elif (score > 59):\n",
    "        print('D')\n",
    "    else:\n",
    "        print('F')\n",
    "\n",
    "score = int(input(\"Enter an exam score: \"))\n",
    "toGrade(score)"
   ]
  },
  {
   "cell_type": "code",
   "execution_count": null,
   "metadata": {},
   "outputs": [],
   "source": []
  }
 ],
 "metadata": {
  "kernelspec": {
   "display_name": "Python 3 (ipykernel)",
   "language": "python",
   "name": "python3"
  },
  "language_info": {
   "codemirror_mode": {
    "name": "ipython",
    "version": 3
   },
   "file_extension": ".py",
   "mimetype": "text/x-python",
   "name": "python",
   "nbconvert_exporter": "python",
   "pygments_lexer": "ipython3",
   "version": "3.9.7"
  }
 },
 "nbformat": 4,
 "nbformat_minor": 4
}
